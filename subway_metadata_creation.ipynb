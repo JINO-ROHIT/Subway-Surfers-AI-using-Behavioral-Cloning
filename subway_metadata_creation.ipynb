{
 "cells": [
  {
   "cell_type": "code",
   "execution_count": 8,
   "id": "c9376a76",
   "metadata": {},
   "outputs": [],
   "source": [
    "import pandas as pd\n",
    "import numpy as np\n",
    "\n",
    "import os\n",
    "import cv2\n",
    "\n",
    "from tqdm.auto import tqdm\n",
    "\n",
    "import matplotlib.pyplot as plt\n",
    "\n",
    "from PIL import Image"
   ]
  },
  {
   "cell_type": "code",
   "execution_count": 2,
   "id": "35a462c2",
   "metadata": {},
   "outputs": [],
   "source": [
    "MAIN_DIR = 'D:/DATA_SCIENCE/subway_surfers/subway_grouped_data'"
   ]
  },
  {
   "cell_type": "markdown",
   "id": "05f8fd45",
   "metadata": {},
   "source": [
    "# Flipping images"
   ]
  },
  {
   "cell_type": "code",
   "execution_count": 15,
   "id": "619ba130",
   "metadata": {},
   "outputs": [
    {
     "data": {
      "application/vnd.jupyter.widget-view+json": {
       "model_id": "2b0670f098ce43d9b9a29794b7a131c5",
       "version_major": 2,
       "version_minor": 0
      },
      "text/plain": [
       "  0%|          | 0/1753 [00:00<?, ?it/s]"
      ]
     },
     "metadata": {},
     "output_type": "display_data"
    },
    {
     "name": "stderr",
     "output_type": "stream",
     "text": [
      "C:\\Users\\hp\\AppData\\Local\\Temp\\ipykernel_1348\\557773414.py:5: DeprecationWarning: FLIP_LEFT_RIGHT is deprecated and will be removed in Pillow 10 (2023-07-01). Use Transpose.FLIP_LEFT_RIGHT instead.\n",
      "  horz_img = img.transpose(method = Image.FLIP_LEFT_RIGHT)\n"
     ]
    },
    {
     "data": {
      "application/vnd.jupyter.widget-view+json": {
       "model_id": "127be026dee7402b989c6f3cd55db7bf",
       "version_major": 2,
       "version_minor": 0
      },
      "text/plain": [
       "  0%|          | 0/806 [00:00<?, ?it/s]"
      ]
     },
     "metadata": {},
     "output_type": "display_data"
    },
    {
     "name": "stderr",
     "output_type": "stream",
     "text": [
      "C:\\Users\\hp\\AppData\\Local\\Temp\\ipykernel_1348\\557773414.py:12: DeprecationWarning: FLIP_LEFT_RIGHT is deprecated and will be removed in Pillow 10 (2023-07-01). Use Transpose.FLIP_LEFT_RIGHT instead.\n",
      "  horz_img = img.transpose(method = Image.FLIP_LEFT_RIGHT)\n"
     ]
    },
    {
     "data": {
      "application/vnd.jupyter.widget-view+json": {
       "model_id": "3ead48cc3c444017b900e902217ed731",
       "version_major": 2,
       "version_minor": 0
      },
      "text/plain": [
       "  0%|          | 0/3952 [00:00<?, ?it/s]"
      ]
     },
     "metadata": {},
     "output_type": "display_data"
    },
    {
     "name": "stderr",
     "output_type": "stream",
     "text": [
      "C:\\Users\\hp\\AppData\\Local\\Temp\\ipykernel_1348\\557773414.py:19: DeprecationWarning: FLIP_LEFT_RIGHT is deprecated and will be removed in Pillow 10 (2023-07-01). Use Transpose.FLIP_LEFT_RIGHT instead.\n",
      "  horz_img = img.transpose(method = Image.FLIP_LEFT_RIGHT)\n"
     ]
    },
    {
     "data": {
      "application/vnd.jupyter.widget-view+json": {
       "model_id": "fb1e8e73cd854c009b584336d2cba75b",
       "version_major": 2,
       "version_minor": 0
      },
      "text/plain": [
       "  0%|          | 0/3937 [00:00<?, ?it/s]"
      ]
     },
     "metadata": {},
     "output_type": "display_data"
    },
    {
     "name": "stderr",
     "output_type": "stream",
     "text": [
      "C:\\Users\\hp\\AppData\\Local\\Temp\\ipykernel_1348\\557773414.py:26: DeprecationWarning: FLIP_LEFT_RIGHT is deprecated and will be removed in Pillow 10 (2023-07-01). Use Transpose.FLIP_LEFT_RIGHT instead.\n",
      "  horz_img = img.transpose(method = Image.FLIP_LEFT_RIGHT)\n"
     ]
    }
   ],
   "source": [
    "for images in tqdm(os.listdir( os.path.join(MAIN_DIR, 'Jump'))):\n",
    "    name = f'{MAIN_DIR}/Jump/{images}'\n",
    "    img = Image.open(name)\n",
    "    \n",
    "    horz_img = img.transpose(method = Image.FLIP_LEFT_RIGHT)\n",
    "    horz_img.save(f'{MAIN_DIR}/Jump/flipped_{images}')\n",
    "\n",
    "for images in tqdm(os.listdir( os.path.join(MAIN_DIR, 'Roll'))):\n",
    "    name = f'{MAIN_DIR}/Roll/{images}'\n",
    "    img = Image.open(name)\n",
    "    \n",
    "    horz_img = img.transpose(method = Image.FLIP_LEFT_RIGHT)\n",
    "    horz_img.save(f'{MAIN_DIR}/Roll/flipped_{images}')\n",
    "\n",
    "for images in tqdm(os.listdir( os.path.join(MAIN_DIR, 'Left'))):\n",
    "    name = f'{MAIN_DIR}/Left/{images}'\n",
    "    img = Image.open(name)\n",
    "    \n",
    "    horz_img = img.transpose(method = Image.FLIP_LEFT_RIGHT)\n",
    "    horz_img.save(f'{MAIN_DIR}/Left/flipped_{images}')\n",
    "\n",
    "for images in tqdm(os.listdir( os.path.join(MAIN_DIR, 'Right'))):\n",
    "    name = f'{MAIN_DIR}/Right/{images}'\n",
    "    img = Image.open(name)\n",
    "    \n",
    "    horz_img = img.transpose(method = Image.FLIP_LEFT_RIGHT)\n",
    "    horz_img.save(f'{MAIN_DIR}/Right/flipped_{images}')"
   ]
  },
  {
   "cell_type": "markdown",
   "id": "300e1fd9",
   "metadata": {},
   "source": [
    "## DF manipulation"
   ]
  },
  {
   "cell_type": "code",
   "execution_count": 16,
   "id": "08e6c494",
   "metadata": {},
   "outputs": [
    {
     "data": {
      "application/vnd.jupyter.widget-view+json": {
       "model_id": "57e2689b0ca047158cc1baa62cf59dfb",
       "version_major": 2,
       "version_minor": 0
      },
      "text/plain": [
       "  0%|          | 0/3505 [00:00<?, ?it/s]"
      ]
     },
     "metadata": {},
     "output_type": "display_data"
    }
   ],
   "source": [
    "jump_df = pd.DataFrame()\n",
    "jump_list = []\n",
    "\n",
    "for images in tqdm(os.listdir( os.path.join(MAIN_DIR, 'Jump'))):\n",
    "    jump_list.append(f\"Jump/{images}\")\n",
    "\n",
    "jump_df['image'] = jump_list\n",
    "jump_df['label'] = 'Jump'"
   ]
  },
  {
   "cell_type": "code",
   "execution_count": 17,
   "id": "f8fbd75b",
   "metadata": {},
   "outputs": [
    {
     "data": {
      "application/vnd.jupyter.widget-view+json": {
       "model_id": "859ffbac4f914846a64c679f5b20e945",
       "version_major": 2,
       "version_minor": 0
      },
      "text/plain": [
       "  0%|          | 0/7904 [00:00<?, ?it/s]"
      ]
     },
     "metadata": {},
     "output_type": "display_data"
    }
   ],
   "source": [
    "left_df = pd.DataFrame()\n",
    "left_list = []\n",
    "\n",
    "for images in tqdm(os.listdir( os.path.join(MAIN_DIR, 'Left'))):\n",
    "    left_list.append(f\"Left/{images}\")\n",
    "\n",
    "left_df['image'] = left_list\n",
    "left_df['label'] = 'Left'"
   ]
  },
  {
   "cell_type": "code",
   "execution_count": 18,
   "id": "b0bb3ad6",
   "metadata": {},
   "outputs": [
    {
     "data": {
      "application/vnd.jupyter.widget-view+json": {
       "model_id": "cf2e671a3a7b4d88ab49427ee9f3161b",
       "version_major": 2,
       "version_minor": 0
      },
      "text/plain": [
       "  0%|          | 0/7874 [00:00<?, ?it/s]"
      ]
     },
     "metadata": {},
     "output_type": "display_data"
    }
   ],
   "source": [
    "right_df = pd.DataFrame()\n",
    "right_list = []\n",
    "\n",
    "for images in tqdm(os.listdir( os.path.join(MAIN_DIR, 'Right'))):\n",
    "    right_list.append(f\"Right/{images}\")\n",
    "\n",
    "right_df['image'] = right_list\n",
    "right_df['label'] = 'Right'"
   ]
  },
  {
   "cell_type": "code",
   "execution_count": 23,
   "id": "dba4adc2",
   "metadata": {},
   "outputs": [
    {
     "data": {
      "application/vnd.jupyter.widget-view+json": {
       "model_id": "bcb9f5ce87134f1e94787b6dc6a48ad0",
       "version_major": 2,
       "version_minor": 0
      },
      "text/plain": [
       "  0%|          | 0/24062 [00:00<?, ?it/s]"
      ]
     },
     "metadata": {},
     "output_type": "display_data"
    }
   ],
   "source": [
    "nothing_df = pd.DataFrame()\n",
    "nothing_list = []\n",
    "\n",
    "count = 0\n",
    "for images in tqdm(os.listdir( os.path.join(MAIN_DIR, 'Nothing'))):\n",
    "    if count > 7000:\n",
    "        break\n",
    "    nothing_list.append(f\"Nothing/{images}\")\n",
    "    count += 1\n",
    "nothing_df['image'] = nothing_list\n",
    "nothing_df['label'] = 'Nothing'"
   ]
  },
  {
   "cell_type": "code",
   "execution_count": 20,
   "id": "921fe5ce",
   "metadata": {},
   "outputs": [
    {
     "data": {
      "application/vnd.jupyter.widget-view+json": {
       "model_id": "19edc48273044496bfbd883414889ef0",
       "version_major": 2,
       "version_minor": 0
      },
      "text/plain": [
       "  0%|          | 0/1612 [00:00<?, ?it/s]"
      ]
     },
     "metadata": {},
     "output_type": "display_data"
    }
   ],
   "source": [
    "roll_df = pd.DataFrame()\n",
    "roll_list = []\n",
    "\n",
    "for images in tqdm(os.listdir( os.path.join(MAIN_DIR, 'Roll'))):\n",
    "    roll_list.append(f\"Roll/{images}\")\n",
    "\n",
    "roll_df['image'] = roll_list\n",
    "roll_df['label'] = 'Roll'"
   ]
  },
  {
   "cell_type": "code",
   "execution_count": 25,
   "id": "e332e169",
   "metadata": {},
   "outputs": [],
   "source": [
    "final_df = pd.concat([jump_df, left_df, right_df, roll_df, nothing_df])\n",
    "final_df.reset_index(drop = True, inplace = True)"
   ]
  },
  {
   "cell_type": "code",
   "execution_count": 26,
   "id": "36d80d2d",
   "metadata": {},
   "outputs": [
    {
     "data": {
      "text/plain": [
       "Left       7904\n",
       "Right      7874\n",
       "Nothing    7001\n",
       "Jump       3505\n",
       "Roll       1612\n",
       "Name: label, dtype: int64"
      ]
     },
     "execution_count": 26,
     "metadata": {},
     "output_type": "execute_result"
    }
   ],
   "source": [
    "final_df.label.value_counts()"
   ]
  },
  {
   "cell_type": "code",
   "execution_count": 27,
   "id": "63640071",
   "metadata": {},
   "outputs": [],
   "source": [
    "final_df.to_csv('meta_data.csv', index = False)"
   ]
  }
 ],
 "metadata": {
  "kernelspec": {
   "display_name": "Python 3 (ipykernel)",
   "language": "python",
   "name": "python3"
  },
  "language_info": {
   "codemirror_mode": {
    "name": "ipython",
    "version": 3
   },
   "file_extension": ".py",
   "mimetype": "text/x-python",
   "name": "python",
   "nbconvert_exporter": "python",
   "pygments_lexer": "ipython3",
   "version": "3.8.8"
  }
 },
 "nbformat": 4,
 "nbformat_minor": 5
}
